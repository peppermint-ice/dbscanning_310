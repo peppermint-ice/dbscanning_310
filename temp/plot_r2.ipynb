{
 "cells": [
  {
   "metadata": {},
   "cell_type": "markdown",
   "source": "# Imports",
   "id": "98d1747f65e3336a"
  },
  {
   "cell_type": "code",
   "id": "initial_id",
   "metadata": {
    "collapsed": true,
    "ExecuteTime": {
     "end_time": "2024-05-12T06:49:17.478824Z",
     "start_time": "2024-05-12T06:49:16.512585Z"
    }
   },
   "source": [
    "import numpy as np\n",
    "import matplotlib.pyplot as plt\n",
    "import pandas as pd\n",
    "from matplotlib.colors import LinearSegmentedColormap\n",
    "import seaborn as sns\n",
    "\n",
    "from config import paths\n",
    "import os"
   ],
   "outputs": [],
   "execution_count": 49
  },
  {
   "metadata": {},
   "cell_type": "markdown",
   "source": "# Connecting and getting data",
   "id": "ba6b39280f7417d3"
  },
  {
   "metadata": {
    "ExecuteTime": {
     "end_time": "2024-05-12T06:52:58.592951Z",
     "start_time": "2024-05-12T06:52:58.552420Z"
    }
   },
   "cell_type": "code",
   "source": [
    "folder_paths = paths.get_paths()\n",
    "folder_path = folder_paths[\"data\"]\n",
    "file_path = os.path.join(folder_path, 'combine_ML.csv')\n",
    "df = pd.read_csv(file_path)"
   ],
   "id": "1cb20543d63f91c9",
   "outputs": [],
   "execution_count": 56
  },
  {
   "metadata": {
    "ExecuteTime": {
     "end_time": "2024-05-12T06:52:59.798862Z",
     "start_time": "2024-05-12T06:52:59.774972Z"
    }
   },
   "cell_type": "code",
   "source": "print(df)",
   "id": "8bc32741b2ddd16a",
   "outputs": [
    {
     "name": "stdout",
     "output_type": "stream",
     "text": [
      "      Parameter_name  Parameter_value Regression_model  Correlating_parameter  \\\n",
      "0    marching_cubess             0.90          XGBoost                    NaN   \n",
      "1             alphas             0.30          XGBoost                    NaN   \n",
      "2    marching_cubess             0.30    Random_forest                    NaN   \n",
      "3    marching_cubess             0.70    Random_forest                    NaN   \n",
      "4           poissons            12.00    Random_forest                    NaN   \n",
      "..               ...              ...              ...                    ...   \n",
      "215           alphas             4.00          XGBoost                    NaN   \n",
      "216   ball_pivotings             0.25          XGBoost                    NaN   \n",
      "217           alphas             0.20    Random_forest                    NaN   \n",
      "218           alphas             0.01          XGBoost                    NaN   \n",
      "219           alphas             0.01    Random_forest                    NaN   \n",
      "\n",
      "     RMSE_score_calibration  RMSE_score_validation  R2_score_calibration  \\\n",
      "0             411826.227311           6.574273e+05              0.786677   \n",
      "1             168366.307158           7.433334e+05              0.915264   \n",
      "2             295053.249926           9.207232e+05              0.830587   \n",
      "3             380407.452435           7.886463e+05              0.802176   \n",
      "4             457815.867076           7.768535e+05              0.766214   \n",
      "..                      ...                    ...                   ...   \n",
      "215           153949.447874           1.668056e+06              0.874645   \n",
      "216             3728.268389           1.746080e+06              0.996963   \n",
      "217            68821.411708           1.860926e+06              0.943961   \n",
      "218           148982.190991           1.033837e+06              0.896491   \n",
      "219           340632.021800           1.213943e+06              0.763337   \n",
      "\n",
      "     R2_score_validation  Successful_reconstructions_test  \\\n",
      "0               0.717223                              125   \n",
      "1               0.672495                              122   \n",
      "2               0.664929                              125   \n",
      "3               0.661812                              125   \n",
      "4               0.656554                              123   \n",
      "..                   ...                              ...   \n",
      "215             0.361784                              201   \n",
      "216             0.328012                              200   \n",
      "217             0.287990                              201   \n",
      "218            -0.181336                               18   \n",
      "219            -0.387138                               18   \n",
      "\n",
      "     Successful_reconstructions_train  by_year  \n",
      "0                                 289    False  \n",
      "1                                 284    False  \n",
      "2                                 289    False  \n",
      "3                                 289    False  \n",
      "4                                 284    False  \n",
      "..                                ...      ...  \n",
      "215                               205     True  \n",
      "216                               204     True  \n",
      "217                               205     True  \n",
      "218                                25     True  \n",
      "219                                25     True  \n",
      "\n",
      "[220 rows x 11 columns]\n"
     ]
    }
   ],
   "execution_count": 57
  },
  {
   "metadata": {},
   "cell_type": "markdown",
   "source": "# Plots",
   "id": "6e46c846e8482688"
  },
  {
   "metadata": {},
   "cell_type": "markdown",
   "source": "## R2 for each parameter",
   "id": "f52baf31961914e1"
  },
  {
   "metadata": {
    "ExecuteTime": {
     "end_time": "2024-05-12T06:53:03.745144Z",
     "start_time": "2024-05-12T06:53:02.943326Z"
    }
   },
   "cell_type": "code",
   "source": [
    "number_of_subplots = len(df['Parameter_name'].unique())\n",
    "fig, axs = plt.subplots(number_of_subplots, 1)\n",
    "\n",
    "# Define the colors\n",
    "colors = [(1, 0, 0), (0, 1, 0)]  # Red to Green\n",
    "\n",
    "# Create the colormap\n",
    "cmap_name = 'red_green'\n",
    "n_bins = 100\n",
    "cmap = LinearSegmentedColormap.from_list(cmap_name, colors, N=n_bins)\n",
    "\n",
    "for index, parameter_type in enumerate(df['Parameter_name'].unique()):\n",
    "    df_current = df[df['Parameter_name'] == parameter_type]\n",
    "    \n",
    "    sns.heatmap(df_current['R2_score_validation'], cmap='RdYlGn', annot=True, fmt='d', cbar=False, xticklabels=False)\n",
    "\n",
    "plt.show()\n",
    "    "
   ],
   "id": "c4a4b43847b12433",
   "outputs": [
    {
     "ename": "IndexError",
     "evalue": "Inconsistent shape between the condition and the input (got (36, 1) and (36,))",
     "output_type": "error",
     "traceback": [
      "\u001B[1;31m---------------------------------------------------------------------------\u001B[0m",
      "\u001B[1;31mIndexError\u001B[0m                                Traceback (most recent call last)",
      "Cell \u001B[1;32mIn[58], line 15\u001B[0m\n\u001B[0;32m     12\u001B[0m \u001B[38;5;28;01mfor\u001B[39;00m index, parameter_type \u001B[38;5;129;01min\u001B[39;00m \u001B[38;5;28menumerate\u001B[39m(df[\u001B[38;5;124m'\u001B[39m\u001B[38;5;124mParameter_name\u001B[39m\u001B[38;5;124m'\u001B[39m]\u001B[38;5;241m.\u001B[39munique()):\n\u001B[0;32m     13\u001B[0m     df_current \u001B[38;5;241m=\u001B[39m df[df[\u001B[38;5;124m'\u001B[39m\u001B[38;5;124mParameter_name\u001B[39m\u001B[38;5;124m'\u001B[39m] \u001B[38;5;241m==\u001B[39m parameter_type]\n\u001B[1;32m---> 15\u001B[0m     \u001B[43msns\u001B[49m\u001B[38;5;241;43m.\u001B[39;49m\u001B[43mheatmap\u001B[49m\u001B[43m(\u001B[49m\u001B[43mdf_current\u001B[49m\u001B[43m[\u001B[49m\u001B[38;5;124;43m'\u001B[39;49m\u001B[38;5;124;43mR2_score_validation\u001B[39;49m\u001B[38;5;124;43m'\u001B[39;49m\u001B[43m]\u001B[49m\u001B[43m,\u001B[49m\u001B[43m \u001B[49m\u001B[43mcmap\u001B[49m\u001B[38;5;241;43m=\u001B[39;49m\u001B[38;5;124;43m'\u001B[39;49m\u001B[38;5;124;43mRdYlGn\u001B[39;49m\u001B[38;5;124;43m'\u001B[39;49m\u001B[43m,\u001B[49m\u001B[43m \u001B[49m\u001B[43mannot\u001B[49m\u001B[38;5;241;43m=\u001B[39;49m\u001B[38;5;28;43;01mTrue\u001B[39;49;00m\u001B[43m,\u001B[49m\u001B[43m \u001B[49m\u001B[43mfmt\u001B[49m\u001B[38;5;241;43m=\u001B[39;49m\u001B[38;5;124;43m'\u001B[39;49m\u001B[38;5;124;43md\u001B[39;49m\u001B[38;5;124;43m'\u001B[39;49m\u001B[43m,\u001B[49m\u001B[43m \u001B[49m\u001B[43mcbar\u001B[49m\u001B[38;5;241;43m=\u001B[39;49m\u001B[38;5;28;43;01mFalse\u001B[39;49;00m\u001B[43m,\u001B[49m\u001B[43m \u001B[49m\u001B[43mxticklabels\u001B[49m\u001B[38;5;241;43m=\u001B[39;49m\u001B[38;5;28;43;01mFalse\u001B[39;49;00m\u001B[43m)\u001B[49m\n\u001B[0;32m     17\u001B[0m plt\u001B[38;5;241m.\u001B[39mshow()\n",
      "File \u001B[1;32m~\\PycharmProjects\\dbscanning_310\\venv\\lib\\site-packages\\seaborn\\matrix.py:446\u001B[0m, in \u001B[0;36mheatmap\u001B[1;34m(data, vmin, vmax, cmap, center, robust, annot, fmt, annot_kws, linewidths, linecolor, cbar, cbar_kws, cbar_ax, square, xticklabels, yticklabels, mask, ax, **kwargs)\u001B[0m\n\u001B[0;32m    365\u001B[0m \u001B[38;5;250m\u001B[39m\u001B[38;5;124;03m\"\"\"Plot rectangular data as a color-encoded matrix.\u001B[39;00m\n\u001B[0;32m    366\u001B[0m \n\u001B[0;32m    367\u001B[0m \u001B[38;5;124;03mThis is an Axes-level function and will draw the heatmap into the\u001B[39;00m\n\u001B[1;32m   (...)\u001B[0m\n\u001B[0;32m    443\u001B[0m \n\u001B[0;32m    444\u001B[0m \u001B[38;5;124;03m\"\"\"\u001B[39;00m\n\u001B[0;32m    445\u001B[0m \u001B[38;5;66;03m# Initialize the plotter object\u001B[39;00m\n\u001B[1;32m--> 446\u001B[0m plotter \u001B[38;5;241m=\u001B[39m \u001B[43m_HeatMapper\u001B[49m\u001B[43m(\u001B[49m\u001B[43mdata\u001B[49m\u001B[43m,\u001B[49m\u001B[43m \u001B[49m\u001B[43mvmin\u001B[49m\u001B[43m,\u001B[49m\u001B[43m \u001B[49m\u001B[43mvmax\u001B[49m\u001B[43m,\u001B[49m\u001B[43m \u001B[49m\u001B[43mcmap\u001B[49m\u001B[43m,\u001B[49m\u001B[43m \u001B[49m\u001B[43mcenter\u001B[49m\u001B[43m,\u001B[49m\u001B[43m \u001B[49m\u001B[43mrobust\u001B[49m\u001B[43m,\u001B[49m\u001B[43m \u001B[49m\u001B[43mannot\u001B[49m\u001B[43m,\u001B[49m\u001B[43m \u001B[49m\u001B[43mfmt\u001B[49m\u001B[43m,\u001B[49m\n\u001B[0;32m    447\u001B[0m \u001B[43m                      \u001B[49m\u001B[43mannot_kws\u001B[49m\u001B[43m,\u001B[49m\u001B[43m \u001B[49m\u001B[43mcbar\u001B[49m\u001B[43m,\u001B[49m\u001B[43m \u001B[49m\u001B[43mcbar_kws\u001B[49m\u001B[43m,\u001B[49m\u001B[43m \u001B[49m\u001B[43mxticklabels\u001B[49m\u001B[43m,\u001B[49m\n\u001B[0;32m    448\u001B[0m \u001B[43m                      \u001B[49m\u001B[43myticklabels\u001B[49m\u001B[43m,\u001B[49m\u001B[43m \u001B[49m\u001B[43mmask\u001B[49m\u001B[43m)\u001B[49m\n\u001B[0;32m    450\u001B[0m \u001B[38;5;66;03m# Add the pcolormesh kwargs here\u001B[39;00m\n\u001B[0;32m    451\u001B[0m kwargs[\u001B[38;5;124m\"\u001B[39m\u001B[38;5;124mlinewidths\u001B[39m\u001B[38;5;124m\"\u001B[39m] \u001B[38;5;241m=\u001B[39m linewidths\n",
      "File \u001B[1;32m~\\PycharmProjects\\dbscanning_310\\venv\\lib\\site-packages\\seaborn\\matrix.py:115\u001B[0m, in \u001B[0;36m_HeatMapper.__init__\u001B[1;34m(self, data, vmin, vmax, cmap, center, robust, annot, fmt, annot_kws, cbar, cbar_kws, xticklabels, yticklabels, mask)\u001B[0m\n\u001B[0;32m    112\u001B[0m \u001B[38;5;66;03m# Validate the mask and convert to DataFrame\u001B[39;00m\n\u001B[0;32m    113\u001B[0m mask \u001B[38;5;241m=\u001B[39m _matrix_mask(data, mask)\n\u001B[1;32m--> 115\u001B[0m plot_data \u001B[38;5;241m=\u001B[39m \u001B[43mnp\u001B[49m\u001B[38;5;241;43m.\u001B[39;49m\u001B[43mma\u001B[49m\u001B[38;5;241;43m.\u001B[39;49m\u001B[43mmasked_where\u001B[49m\u001B[43m(\u001B[49m\u001B[43mnp\u001B[49m\u001B[38;5;241;43m.\u001B[39;49m\u001B[43masarray\u001B[49m\u001B[43m(\u001B[49m\u001B[43mmask\u001B[49m\u001B[43m)\u001B[49m\u001B[43m,\u001B[49m\u001B[43m \u001B[49m\u001B[43mplot_data\u001B[49m\u001B[43m)\u001B[49m\n\u001B[0;32m    117\u001B[0m \u001B[38;5;66;03m# Get good names for the rows and columns\u001B[39;00m\n\u001B[0;32m    118\u001B[0m xtickevery \u001B[38;5;241m=\u001B[39m \u001B[38;5;241m1\u001B[39m\n",
      "File \u001B[1;32m~\\PycharmProjects\\dbscanning_310\\venv\\lib\\site-packages\\numpy\\ma\\core.py:1933\u001B[0m, in \u001B[0;36mmasked_where\u001B[1;34m(condition, a, copy)\u001B[0m\n\u001B[0;32m   1931\u001B[0m (cshape, ashape) \u001B[38;5;241m=\u001B[39m (cond\u001B[38;5;241m.\u001B[39mshape, a\u001B[38;5;241m.\u001B[39mshape)\n\u001B[0;32m   1932\u001B[0m \u001B[38;5;28;01mif\u001B[39;00m cshape \u001B[38;5;129;01mand\u001B[39;00m cshape \u001B[38;5;241m!=\u001B[39m ashape:\n\u001B[1;32m-> 1933\u001B[0m     \u001B[38;5;28;01mraise\u001B[39;00m \u001B[38;5;167;01mIndexError\u001B[39;00m(\u001B[38;5;124m\"\u001B[39m\u001B[38;5;124mInconsistent shape between the condition and the input\u001B[39m\u001B[38;5;124m\"\u001B[39m\n\u001B[0;32m   1934\u001B[0m                      \u001B[38;5;124m\"\u001B[39m\u001B[38;5;124m (got \u001B[39m\u001B[38;5;132;01m%s\u001B[39;00m\u001B[38;5;124m and \u001B[39m\u001B[38;5;132;01m%s\u001B[39;00m\u001B[38;5;124m)\u001B[39m\u001B[38;5;124m\"\u001B[39m \u001B[38;5;241m%\u001B[39m (cshape, ashape))\n\u001B[0;32m   1935\u001B[0m \u001B[38;5;28;01mif\u001B[39;00m \u001B[38;5;28mhasattr\u001B[39m(a, \u001B[38;5;124m'\u001B[39m\u001B[38;5;124m_mask\u001B[39m\u001B[38;5;124m'\u001B[39m):\n\u001B[0;32m   1936\u001B[0m     cond \u001B[38;5;241m=\u001B[39m mask_or(cond, a\u001B[38;5;241m.\u001B[39m_mask)\n",
      "\u001B[1;31mIndexError\u001B[0m: Inconsistent shape between the condition and the input (got (36, 1) and (36,))"
     ]
    },
    {
     "data": {
      "text/plain": [
       "<Figure size 640x480 with 4 Axes>"
      ],
      "image/png": "[encoded data removed]"
     },
     "metadata": {},
     "output_type": "display_data"
    }
   ],
   "execution_count": 58
  },
  {
   "metadata": {},
   "cell_type": "code",
   "source": "",
   "id": "9c7fd3a4a9b8b34b",
   "outputs": [],
   "execution_count": null
  },
  {
   "metadata": {},
   "cell_type": "code",
   "source": "",
   "id": "aae2733f5f8d6d14",
   "outputs": [],
   "execution_count": null
  },
  {
   "metadata": {
    "ExecuteTime": {
     "end_time": "2024-05-12T06:51:38.013967Z",
     "start_time": "2024-05-12T06:51:37.965174Z"
    }
   },
   "cell_type": "code",
   "source": [
    "# Sample data\n",
    "data = {'A': [1, 2, 3, 4, 10]}\n",
    "df = pd.DataFrame(data)\n",
    "\n",
    "# Transposing the DataFrame\n",
    "df = df.T\n",
    "\n",
    "# Plotting heatmap\n",
    "plt.figure(figsize=(8, 2))\n",
    "sns.heatmap(df, cmap='RdYlGn', annot=True, fmt='d', cbar=False, xticklabels=False)\n",
    "plt.show()"
   ],
   "id": "fa795fc2f38d6d1d",
   "outputs": [
    {
     "data": {
      "text/plain": [
       "<Figure size 800x200 with 1 Axes>"
      ],
      "image/png": "[encoded data removed]"
     },
     "metadata": {},
     "output_type": "display_data"
    }
   ],
   "execution_count": 54
  },
  {
   "metadata": {
    "ExecuteTime": {
     "end_time": "2024-05-12T05:13:52.925493Z",
     "start_time": "2024-05-12T05:13:52.909879Z"
    }
   },
   "cell_type": "code",
   "source": "",
   "id": "3e036b4e571b3a15",
   "outputs": [],
   "execution_count": 33
  },
  {
   "metadata": {},
   "cell_type": "code",
   "outputs": [],
   "execution_count": null,
   "source": "",
   "id": "56fcfa05e0e21eb3"
  }
 ],
 "metadata": {
  "kernelspec": {
   "display_name": "Python 3",
   "language": "python",
   "name": "python3"
  },
  "language_info": {
   "codemirror_mode": {
    "name": "ipython",
    "version": 2
   },
   "file_extension": ".py",
   "mimetype": "text/x-python",
   "name": "python",
   "nbconvert_exporter": "python",
   "pygments_lexer": "ipython2",
   "version": "2.7.6"
  }
 },
 "nbformat": 4,
 "nbformat_minor": 5
}
